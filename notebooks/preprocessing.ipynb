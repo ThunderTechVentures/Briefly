{
 "cells": [
  {
   "cell_type": "code",
   "execution_count": 5,
   "metadata": {},
   "outputs": [],
   "source": [
    "# ! pip uninstall nltk\n",
    "# ! pip install nltk\n"
   ]
  },
  {
   "cell_type": "code",
   "execution_count": 6,
   "metadata": {},
   "outputs": [
    {
     "name": "stderr",
     "output_type": "stream",
     "text": [
      "[nltk_data] Downloading package punkt to\n",
      "[nltk_data]     C:\\Users\\P\\AppData\\Roaming\\nltk_data...\n",
      "[nltk_data]   Package punkt is already up-to-date!\n",
      "[nltk_data] Downloading package stopwords to\n",
      "[nltk_data]     C:\\Users\\P\\AppData\\Roaming\\nltk_data...\n",
      "[nltk_data]   Package stopwords is already up-to-date!\n",
      "[nltk_data] Downloading package wordnet to\n",
      "[nltk_data]     C:\\Users\\P\\AppData\\Roaming\\nltk_data...\n",
      "[nltk_data]   Package wordnet is already up-to-date!\n"
     ]
    }
   ],
   "source": [
    "import json\n",
    "import nltk\n",
    "from nltk.tokenize import word_tokenize, sent_tokenize\n",
    "from nltk.corpus import stopwords\n",
    "from nltk.stem import WordNetLemmatizer\n",
    "\n",
    "# Download necessary NLTK resources\n",
    "nltk.download('punkt')\n",
    "nltk.download('stopwords')\n",
    "nltk.download('wordnet')\n",
    "\n",
    "def preprocess_text(page):\n",
    "    # Step 1: Remove unnecessary whitespace\n",
    "    text = page['text'].strip()\n",
    "    \n",
    "    # Step 2: Extract page number (if needed)\n",
    "    page_number = page['page_number']\n",
    "    \n",
    "    # Step 3: Tokenization\n",
    "    sentences = sent_tokenize(text, language=\"english\")\n",
    "    words = word_tokenize(text)\n",
    "    \n",
    "    # Step 4: Lowercasing\n",
    "    words = [word.lower() for word in words]\n",
    "    \n",
    "    # Step 5: Remove stop words\n",
    "    stop_words = set(stopwords.words('english'))\n",
    "    filtered_words = [word for word in words if word.isalnum() and word not in stop_words]\n",
    "\n",
    "    # Step 6: Lemmatization\n",
    "    lemmatizer = WordNetLemmatizer()\n",
    "    lemmatized_words = [lemmatizer.lemmatize(word) for word in filtered_words]\n",
    "\n",
    "    # Step 7: Remove special characters (handled in filtering)\n",
    "    cleaned_text = ' '.join(lemmatized_words)\n",
    "    \n",
    "    # Return a dictionary with processed information\n",
    "    return {\n",
    "        \"page_number\": page_number,\n",
    "        \"cleaned_text\": cleaned_text,\n",
    "        \"original_text\": text,\n",
    "        \"sentences\": sentences\n",
    "    }\n",
    "\n",
    "# Function to process each page in the JSON file and save the result to a new file\n",
    "def process_and_save_pages(input_file_path, output_file_path):\n",
    "    # Load the JSON data\n",
    "    with open(input_file_path, 'r') as file:\n",
    "        data = json.load(file)\n",
    "    \n",
    "    # Process each page and store the results\n",
    "    processed_pages = [preprocess_text(page) for page in data]\n",
    "    \n",
    "    # Save the cleaned text to a new JSON file\n",
    "    with open(output_file_path, 'w') as outfile:\n",
    "        json.dump({\"pages\": processed_pages}, outfile, indent=4)  # Pretty-print with indent\n",
    "\n",
    "# Example usage\n",
    "input_file_path = '../data/data.json'  # Path to your input data.json file\n",
    "output_file_path = '../data/final_clean.json'  # Path to your output JSON file\n",
    "\n",
    "process_and_save_pages(input_file_path, output_file_path)\n",
    "\n",
    "# # Output the processed result of each page (optional, just for verification)\n",
    "# for page in process_all_pages(input_file_path):\n",
    "#     print(page)\n"
   ]
  },
  {
   "cell_type": "code",
   "execution_count": null,
   "metadata": {},
   "outputs": [],
   "source": []
  }
 ],
 "metadata": {
  "kernelspec": {
   "display_name": "Python 3",
   "language": "python",
   "name": "python3"
  },
  "language_info": {
   "codemirror_mode": {
    "name": "ipython",
    "version": 3
   },
   "file_extension": ".py",
   "mimetype": "text/x-python",
   "name": "python",
   "nbconvert_exporter": "python",
   "pygments_lexer": "ipython3",
   "version": "3.12.7"
  }
 },
 "nbformat": 4,
 "nbformat_minor": 4
}
