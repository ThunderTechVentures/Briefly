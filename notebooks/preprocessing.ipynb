{
 "cells": [
  {
   "cell_type": "code",
   "execution_count": 1,
   "metadata": {},
   "outputs": [],
   "source": [
    "#pip uninstall nltk\n",
    "# pip install nltk\n"
   ]
  },
  {
   "cell_type": "code",
   "execution_count": 2,
   "metadata": {},
   "outputs": [
    {
     "name": "stderr",
     "output_type": "stream",
     "text": [
      "[nltk_data] Downloading package punkt to C:\\Users\\pratham\n",
      "[nltk_data]     angdalwar\\AppData\\Roaming\\nltk_data...\n",
      "[nltk_data]   Package punkt is already up-to-date!\n",
      "[nltk_data] Downloading package stopwords to C:\\Users\\pratham\n",
      "[nltk_data]     angdalwar\\AppData\\Roaming\\nltk_data...\n",
      "[nltk_data]   Package stopwords is already up-to-date!\n",
      "[nltk_data] Downloading package punkt_tab to C:\\Users\\pratham\n",
      "[nltk_data]     angdalwar\\AppData\\Roaming\\nltk_data...\n",
      "[nltk_data]   Package punkt_tab is already up-to-date!\n",
      "[nltk_data] Downloading package wordnet to C:\\Users\\pratham\n",
      "[nltk_data]     angdalwar\\AppData\\Roaming\\nltk_data...\n",
      "[nltk_data]   Package wordnet is already up-to-date!\n"
     ]
    },
    {
     "name": "stdout",
     "output_type": "stream",
     "text": [
      "{'page_number': 395, 'cleaned_text': '364 constitution india appendix 1 2 3 4 5 6 107 chhoto 148 bhurungamari dinhata garaljhora 108 1 chhit without patgram mathabhanga name jl southern jl 38 southern jl 39 locally known ashokabari enclave fragmented chhits text', 'original_text': '364 THE CONSTITUTION OF INDIA\\n(Appendix I)\\n1 2 3 4 5 6\\n107. Chhoto 148 Bhurungamari Dinhata 35.74\\nGaraljhora I\\n108. 1 chhit without Patgram Mathabhanga 3.5\\nname & JL No.\\nat the southern\\nand of JL No. 38\\n& southern and\\nof JL No. 39\\n(locally known\\nas Ashokabari*)\\nEnclaves with Fragmented Chhits\\n... more text ...', 'sentences': ['364 THE CONSTITUTION OF INDIA\\n(Appendix I)\\n1 2 3 4 5 6\\n107.', 'Chhoto 148 Bhurungamari Dinhata 35.74\\nGaraljhora I\\n108.', '1 chhit without Patgram Mathabhanga 3.5\\nname & JL No.', 'at the southern\\nand of JL No.', '38\\n& southern and\\nof JL No.', '39\\n(locally known\\nas Ashokabari*)\\nEnclaves with Fragmented Chhits\\n... more text ...']}\n"
     ]
    }
   ],
   "source": [
    "import nltk\n",
    "from nltk.tokenize import word_tokenize, sent_tokenize\n",
    "from nltk.corpus import stopwords\n",
    "from nltk.stem import WordNetLemmatizer\n",
    "\n",
    "# Download necessary NLTK resources if they are not already downloaded\n",
    "\n",
    "nltk.download('punkt')  # This should include the required sentence tokenizer\n",
    "nltk.download('stopwords')\n",
    "nltk.download('punkt_tab')\n",
    "\n",
    "nltk.download('wordnet')\n",
    "\n",
    "def preprocess_text(page):\n",
    "    # Step 1: Remove unnecessary whitespace\n",
    "    text = page['text'].strip()\n",
    "    \n",
    "    # Step 2: Extract page number (if needed)\n",
    "    page_number = page['page_number']\n",
    "    \n",
    "    # Step 3: Tokenization\n",
    "    sentences = sent_tokenize(text, language=\"english\")\n",
    "    words = word_tokenize(text)\n",
    "    \n",
    "    # Step 4: Lowercasing\n",
    "    words = [word.lower() for word in words]\n",
    "    \n",
    "    # Step 5: Remove stop words\n",
    "    stop_words = set(stopwords.words('english'))\n",
    "    filtered_words = [word for word in words if word.isalnum() and word not in stop_words]\n",
    "\n",
    "    # Step 6: Lemmatization\n",
    "    lemmatizer = WordNetLemmatizer()\n",
    "    lemmatized_words = [lemmatizer.lemmatize(word) for word in filtered_words]\n",
    "\n",
    "    # Step 7: Remove special characters (this is mostly handled in the filtering above)\n",
    "    cleaned_text = ' '.join(lemmatized_words)\n",
    "    \n",
    "    # Return a dictionary with processed information\n",
    "    return {\n",
    "        \"page_number\": page_number,\n",
    "        \"cleaned_text\": cleaned_text,\n",
    "        \"original_text\": text,\n",
    "        \"sentences\": sentences\n",
    "    }\n",
    "\n",
    "# Example of processing a single page\n",
    "page_data = {\n",
    "    \"page_number\": 395,\n",
    "    \"section\": None,\n",
    "    \"title\": None,\n",
    "    \"text\": \"364 THE CONSTITUTION OF INDIA\\n(Appendix I)\\n1 2 3 4 5 6\\n107. Chhoto 148 Bhurungamari Dinhata 35.74\\nGaraljhora I\\n108. 1 chhit without Patgram Mathabhanga 3.5\\nname & JL No.\\nat the southern\\nand of JL No. 38\\n& southern and\\nof JL No. 39\\n(locally known\\nas Ashokabari*)\\nEnclaves with Fragmented Chhits\\n... more text ...\"\n",
    "}\n",
    "\n",
    "# Run the preprocessing\n",
    "processed_page = preprocess_text(page_data)\n",
    "print(processed_page)\n",
    "\n"
   ]
  },
  {
   "cell_type": "code",
   "execution_count": null,
   "metadata": {},
   "outputs": [],
   "source": []
  }
 ],
 "metadata": {
  "kernelspec": {
   "display_name": "Python 3 (ipykernel)",
   "language": "python",
   "name": "python3"
  },
  "language_info": {
   "codemirror_mode": {
    "name": "ipython",
    "version": 3
   },
   "file_extension": ".py",
   "mimetype": "text/x-python",
   "name": "python",
   "nbconvert_exporter": "python",
   "pygments_lexer": "ipython3",
   "version": "3.12.3"
  }
 },
 "nbformat": 4,
 "nbformat_minor": 4
}
