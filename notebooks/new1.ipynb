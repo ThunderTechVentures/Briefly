{
 "cells": [
  {
   "cell_type": "code",
   "execution_count": 1,
   "metadata": {},
   "outputs": [],
   "source": [
    "# ! pip install spacy"
   ]
  },
  {
   "cell_type": "code",
   "execution_count": 18,
   "metadata": {},
   "outputs": [
    {
     "name": "stdout",
     "output_type": "stream",
     "text": [
      "Top relevant pages:\n",
      "Page Number: 221, Similarity: 0.4569\n",
      "Cleaned Text: 190 THE CONSTITUTION OF INDIA\n",
      "(Part XVI.—Special Provisions Relating to Certain Classes)\n",
      "1[330A. Reservation of seats for women in the House of the People.-\n",
      "(1)Seats shall be reserved for women in the House of the People.\n",
      "(2) As nearly as may be, one-third of the total number of seats reserved\n",
      "under clause (2) of article 330 shall be reserved for women belonging to the\n",
      "Scheduled Castes or the Scheduled Tribes.\n",
      "(3) As nearly as may be, one-third (including the number of seats\n",
      "reserved for women belonging to the Scheduled Castes and the Scheduled\n",
      "Tribes) of the total number of seats to be filled by direct election to the House\n",
      "of the People shall be reserved for women.]\n",
      "331. Representation of the Anglo-Indian Community in the House of\n",
      "the People.—Notwithstanding anything in article 81, the President may, if he is\n",
      "of opinion that the Anglo-Indian community is not adequately represented in\n",
      "the House of the People, nominate not more than two members of that\n",
      "community to the House of the People.\n",
      "332. Reservation of seats for Scheduled Castes and Scheduled Tribes\n",
      "in the Legislative Assemblies of the States.—(1) Seats shall be reserved for\n",
      "the Scheduled Castes and the Scheduled Tribes, 2[except the Scheduled Tribes\n",
      "in the autonomous districts of Assam], in the Legislative Assembly of every\n",
      "State3***.\n",
      "(2) Seats shall be reserved also for the autonomous districts in the\n",
      "Legislative Assembly of the State of Assam.\n",
      "(3) The number of seats reserved for the Scheduled Castes or the\n",
      "Scheduled Tribes in the Legislative Assembly of any State under clause (1)\n",
      "shall bear, as nearly as may be, the same proportion to the total number of seats\n",
      "in the Assembly as the population of the Scheduled Castes in the State or of the\n",
      "Scheduled Tribes in the State or part of the State, as the case may be, in respect\n",
      "of which seats are so reserved, bears to the total population of the State.\n",
      "4[(3A) Notwithstanding anything contained in clause (3), until the taking\n",
      "effect, under article 170, of the re-adjustment, on the basis of the first census\n",
      "after the year 5[2026], of the number of seats in the Legislative Assemblies of\n",
      "the States of Arunachal Pradesh, Meghalaya, Mizoram and Nagaland, the seats\n",
      "which shall be reserved for the Scheduled Tribes in the Legislative Assembly\n",
      "of any such State shall be,—\n",
      "______________________________________________\n",
      "1. Ins. by the Constitution (One Hundred and Sixth Amendment) Act, 2023, s.3 (date yet to be\n",
      "notified).\n",
      "2. Subs. by the Constitution (Fifty-first Amendment) Act, 1984, s. 3, for certain words (w.e.f. 16-6-1986).\n",
      "3. The words and letters \"specified in Part A or Part B of the First Schedule\" omitted by the\n",
      "Constitution (Seventh Amendment) Act, 1956, s. 29 and Sch. (w.e.f. 1-11-1956).\n",
      "4.Ins. by the Constitution (Fifty-seventh Amendment) Act, 1987, s. 2 (w.e.f. 21-9-1987).\n",
      "5. Subs. by the Constitution (Eighty-fourth Amendment) Act, 2001, s. 7, for \"2000\" (w.e.f. 21-2-2002).\n",
      "\n",
      "['190 THE CONSTITUTION OF INDIA\\n(Part XVI.—Special Provisions Relating to Certain Classes)\\n1[330A. Reservation of seats for women in the House of the People.-\\n(1)Seats shall be reserved for women in the House of the People.\\n(2) As nearly as may be, one-third of the total number of seats reserved\\nunder clause (2) of article 330 shall be reserved for women belonging to the\\nScheduled Castes or the Scheduled Tribes.\\n(3) As nearly as may be, one-third (including the number of seats\\nreserved for women belonging to the Scheduled Castes and the Scheduled\\nTribes) of the total number of seats to be filled by direct election to the House\\nof the People shall be reserved for women.]\\n331. Representation of the Anglo-Indian Community in the House of\\nthe People.—Notwithstanding anything in article 81, the President may, if he is\\nof opinion that the Anglo-Indian community is not adequately represented in\\nthe House of the People, nominate not more than two members of that\\ncommunity to the House of the People.\\n332. Reservation of seats for Scheduled Castes and Scheduled Tribes\\nin the Legislative Assemblies of the States.—(1) Seats shall be reserved for\\nthe Scheduled Castes and the Scheduled Tribes, 2[except the Scheduled Tribes\\nin the autonomous districts of Assam], in the Legislative Assembly of every\\nState3***.\\n(2) Seats shall be reserved also for the autonomous districts in the\\nLegislative Assembly of the State of Assam.\\n(3) The number of seats reserved for the Scheduled Castes or the\\nScheduled Tribes in the Legislative Assembly of any State under clause (1)\\nshall bear, as nearly as may be, the same proportion to the total number of seats\\nin the Assembly as the population of the Scheduled Castes in the State or of the\\nScheduled Tribes in the State or part of the State, as the case may be, in respect\\nof which seats are so reserved, bears to the total population of the State.\\n4[(3A) Notwithstanding anything contained in clause (3), until the taking\\neffect, under article 170, of the re-adjustment, on the basis of the first census\\nafter the year 5[2026], of the number of seats in the Legislative Assemblies of\\nthe States of Arunachal Pradesh, Meghalaya, Mizoram and Nagaland, the seats\\nwhich shall be reserved for the Scheduled Tribes in the Legislative Assembly\\nof any such State shall be,—\\n______________________________________________\\n1. Ins. by the Constitution (One Hundred and Sixth Amendment) Act, 2023, s.3 (date yet to be\\nnotified).\\n2. Subs. by the Constitution (Fifty-first Amendment) Act, 1984, s. 3, for certain words (w.e.f. 16-6-1986).\\n3. The words and letters \"specified in Part A or Part B of the First Schedule\" omitted by the\\nConstitution (Seventh Amendment) Act, 1956, s. 29 and Sch. (w.e.f. 1-11-1956).\\n4.Ins. by the Constitution (Fifty-seventh Amendment) Act, 1987, s. 2 (w.e.f. 21-9-1987).\\n5. Subs. by the Constitution (Eighty-fourth Amendment) Act, 2001, s. 7, for \"2000\" (w.e.f. 21-2-2002).']\n"
     ]
    }
   ],
   "source": [
    "import json\n",
    "from sentence_transformers import SentenceTransformer, util\n",
    "\n",
    "# Load a pre-trained SBERT model\n",
    "model = SentenceTransformer('paraphrase-MiniLM-L6-v2')\n",
    "\n",
    "# Load the cleaned JSON data\n",
    "with open('../data/final_clean_with_keywords.json', 'r') as file:\n",
    "    data = json.load(file)\n",
    "\n",
    "# Extract cleaned text from the pages\n",
    "documents = [page['original_text'] for page in data['pages']]\n",
    "\n",
    "# User query\n",
    "query = \"woman rights\"\n",
    "\n",
    "# Encode the documents and query into sentence embeddings\n",
    "doc_embeddings = model.encode(documents)\n",
    "query_embedding = model.encode(query)\n",
    "\n",
    "# Compute cosine similarity scores between the query and documents\n",
    "cosine_similarities = util.cos_sim(query_embedding, doc_embeddings)\n",
    "\n",
    "# Get indices of documents sorted by similarity score\n",
    "sorted_indices = cosine_similarities.argsort(descending=True).tolist()[0]\n",
    "\n",
    "# Set a similarity threshold\n",
    "threshold = 0.45\n",
    "\n",
    "# Print the top relevant documents\n",
    "print(\"Top relevant pages:\")\n",
    "top_5_res=[]\n",
    "for idx in sorted_indices[:5]:  # Get top 5 relevant documents\n",
    "    if cosine_similarities[0][idx] >= threshold:\n",
    "        print(f\"Page Number: {data['pages'][idx]['page_number']}, Similarity: {cosine_similarities[0][idx]:.4f}\")\n",
    "        print(f\"Cleaned Text: {documents[idx]}\\n\")\n",
    "        top_5_res.append(documents[idx])\n",
    "    else:\n",
    "        break\n",
    "print(top_5_res)"
   ]
  },
  {
   "cell_type": "code",
   "execution_count": 22,
   "metadata": {},
   "outputs": [
    {
     "data": {
      "text/plain": [
       "1"
      ]
     },
     "execution_count": 22,
     "metadata": {},
     "output_type": "execute_result"
    }
   ],
   "source": [
    "len(top_5_res)"
   ]
  },
  {
   "cell_type": "code",
   "execution_count": 4,
   "metadata": {},
   "outputs": [],
   "source": [
    "# ! pip install tensorflow tensorflow-hub transformers\n",
    "#! pip install transformers torch\n"
   ]
  },
  {
   "cell_type": "code",
   "execution_count": 21,
   "metadata": {},
   "outputs": [
    {
     "name": "stderr",
     "output_type": "stream",
     "text": [
      "All PyTorch model weights were used when initializing TFT5ForConditionalGeneration.\n",
      "\n",
      "All the weights of TFT5ForConditionalGeneration were initialized from the PyTorch model.\n",
      "If your task is similar to the task the model of the checkpoint was trained on, you can already use TFT5ForConditionalGeneration for predictions without further training.\n"
     ]
    },
    {
     "name": "stdout",
     "output_type": "stream",
     "text": [
      "Summaries of top relevant pages:\n",
      "Summary:\n",
      "the Constitution (One Hundred and Sixth Amendment) Act, 1984, s. 3, for certain words (w.e.f. 16-6-1986). 3. The words and letters \"specified in Part A or Part B of the First Schedule\" omitted by the Constitution (Fifty-first Amendment) Act, 1956, s. 2 (w.e.f. 16-6-1986). 3. The words and letters \"specified in Part A or Part B of the First Schedule\" omitted by the Constitution (.\n",
      "\n"
     ]
    }
   ],
   "source": [
    "import json\n",
    "import tensorflow as tf\n",
    "from transformers import TFAutoModelForSeq2SeqLM, AutoTokenizer\n",
    "\n",
    "# Load a pre-trained summarization model and tokenizer from Hugging Face\n",
    "model_name = \"t5-small\"  # You can choose a different model as well\n",
    "tokenizer = AutoTokenizer.from_pretrained(model_name)\n",
    "model = TFAutoModelForSeq2SeqLM.from_pretrained(model_name, from_pt=True)\n",
    "\n",
    "# Function to summarize text\n",
    "def summarize_text(text):\n",
    "    try:\n",
    "        inputs = tokenizer(text, return_tensors=\"tf\", max_length=1024, truncation=True, padding=\"max_length\")\n",
    "        summary_ids = model.generate(inputs[\"input_ids\"], max_length=150, min_length=40, length_penalty=2.0, num_beams=4, early_stopping=True)\n",
    "        summary = tokenizer.decode(summary_ids[0], skip_special_tokens=True)\n",
    "        return summary\n",
    "    except Exception as e:\n",
    "        print(f\"Error summarizing text: {e}\")\n",
    "        return \"Summary generation failed.\"\n",
    "\n",
    "# Function to clean and rephrase summaries for better understanding\n",
    "def clean_summary(summary):\n",
    "    # Remove unwanted tokens and phrases\n",
    "    summary = summary.replace(\"<pad>\", \"\").replace(\"<extra_id_0>\", \"\").strip()\n",
    "    \n",
    "    # Simplifying language if necessary\n",
    "    summary = summary.replace(\"shall\", \"must\").replace(\"may\", \"can\")\n",
    "    \n",
    "    return summary\n",
    "\n",
    "# Function to format summary into meaningful sentences\n",
    "def format_summary(summary):\n",
    "    # Split into sentences and clean each sentence\n",
    "    sentences = summary.split(\". \")\n",
    "    sentences = [sentence.strip() for sentence in sentences if sentence]\n",
    "\n",
    "    # Join sentences with more context\n",
    "    readable_sentences = []\n",
    "    \n",
    "    for sentence in sentences:\n",
    "        # Add a period at the end if missing\n",
    "        if not sentence.endswith('.'):\n",
    "            sentence += '.'\n",
    "\n",
    "        # Simplifying legal terms and enhancing clarity\n",
    "        sentence = sentence.replace(\"must\", \"is required to\").replace(\"can\", \"is allowed to\")\n",
    "\n",
    "        # Adding clarifying phrases for legal terms\n",
    "        if \"is required to\" in sentence:\n",
    "            sentence += \" This indicates that compliance with this requirement is mandatory.\"\n",
    "        elif \"is allowed to\" in sentence:\n",
    "            sentence += \" This implies that the action is permitted under the law.\"\n",
    "\n",
    "        # Additional readability improvements\n",
    "        sentence = sentence.replace(\"therefore\", \"as a result\").replace(\"thus\", \"hence\").replace(\"according to\", \"based on\")\n",
    "\n",
    "        # Adding explanations for complex terms\n",
    "        if \"agreement\" in sentence:\n",
    "            sentence += \" This refers to a legally binding contract between parties.\"\n",
    "\n",
    "        # Ensure all conjunctions are included and punctuated correctly\n",
    "        sentence = sentence.replace(\" and \", \" and \").replace(\" to \", \" to \").replace(\" be \", \" be \")\n",
    "        \n",
    "        # Ensure proper punctuation\n",
    "        if not any(punct in sentence for punct in ['.', '!', '?']):\n",
    "            sentence += '.'\n",
    "\n",
    "        # Strip any excess whitespace\n",
    "        sentence = ' '.join(sentence.split())\n",
    "\n",
    "        readable_sentences.append(sentence)\n",
    "    \n",
    "    # Join all readable sentences into a single string\n",
    "    return \" \".join(readable_sentences)\n",
    "\n",
    "# Function to post-process summaries\n",
    "def post_process_summary(summary):\n",
    "    cleaned_summary = clean_summary(summary)\n",
    "    formatted_summary = format_summary(cleaned_summary)\n",
    "    \n",
    "    return formatted_summary  # Return the final formatted summary\n",
    "\n",
    "# Summarize and post-process each document\n",
    "print(\"Summaries of top relevant pages:\")\n",
    "for res in top_5_res:\n",
    "    summary = summarize_text(res)\n",
    "    processed_summary = post_process_summary(summary)\n",
    "    print(f\"Summary:\\n{processed_summary}\\n\")\n"
   ]
  }
 ],
 "metadata": {
  "kernelspec": {
   "display_name": "Python 3",
   "language": "python",
   "name": "python3"
  },
  "language_info": {
   "codemirror_mode": {
    "name": "ipython",
    "version": 3
   },
   "file_extension": ".py",
   "mimetype": "text/x-python",
   "name": "python",
   "nbconvert_exporter": "python",
   "pygments_lexer": "ipython3",
   "version": "3.12.7"
  }
 },
 "nbformat": 4,
 "nbformat_minor": 2
}
